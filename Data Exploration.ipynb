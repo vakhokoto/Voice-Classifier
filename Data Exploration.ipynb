{
 "cells": [
  {
   "cell_type": "markdown",
   "metadata": {},
   "source": [
    "# Imports and some methods"
   ]
  },
  {
   "cell_type": "code",
   "execution_count": 68,
   "metadata": {},
   "outputs": [],
   "source": [
    "import librosa\n",
    "import glob, os\n",
    "import numpy as np\n",
    "from scipy.io import wavfile\n",
    "import string\n",
    "import random, shutil\n",
    "\n",
    "\n",
    "dataDir = 'Data/'\n",
    "testDir = 'TestData/'\n",
    "subdirs = ['1/', '2/', '3/', '4/', '5/']\n",
    "compressionCoefs = [1.0, 3/4, 7/4, 5/6, 3/2]\n",
    "\n",
    "\n",
    "def randomString(length):\n",
    "    \"\"\"Generate a random string of fixed length \"\"\"\n",
    "    letters = string.ascii_uppercase + string.digits\n",
    "    return ''.join(random.choice(letters) for i in range(length))"
   ]
  },
  {
   "cell_type": "markdown",
   "metadata": {},
   "source": [
    "# Data manipulation"
   ]
  },
  {
   "cell_type": "code",
   "execution_count": 69,
   "metadata": {},
   "outputs": [],
   "source": [
    "try:\n",
    "    shutil.rmtree('TestData')\n",
    "except:\n",
    "    pass\n",
    "\n",
    "for sub in subdirs:\n",
    "    lst = os.listdir(dataDir + sub)\n",
    "    if not os.path.exists(testDir + sub):\n",
    "        os.makedirs(testDir + sub)\n",
    "    \n",
    "    for name in lst:\n",
    "        fs, data = wavfile.read(dataDir + sub + name)\n",
    "        \n",
    "        for coef in compressionCoefs:\n",
    "            wavfile.write(rate= int(fs*coef), filename= testDir \\\n",
    "                          + sub + name.split('.')[0] + randomString(20) + '.wav', data= data)\n",
    "            "
   ]
  }
 ],
 "metadata": {
  "kernelspec": {
   "display_name": "Python 3",
   "language": "python",
   "name": "python3"
  },
  "language_info": {
   "codemirror_mode": {
    "name": "ipython",
    "version": 3
   },
   "file_extension": ".py",
   "mimetype": "text/x-python",
   "name": "python",
   "nbconvert_exporter": "python",
   "pygments_lexer": "ipython3",
   "version": "3.6.9"
  }
 },
 "nbformat": 4,
 "nbformat_minor": 2
}

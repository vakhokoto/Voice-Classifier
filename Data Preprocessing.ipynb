{
 "cells": [
  {
   "cell_type": "code",
   "execution_count": 4,
   "metadata": {},
   "outputs": [],
   "source": [
    "import librosa\n",
    "import glob\n",
    "import os\n",
    "import numpy as np"
   ]
  },
  {
   "cell_type": "code",
   "execution_count": 5,
   "metadata": {},
   "outputs": [
    {
     "name": "stdout",
     "output_type": "stream",
     "text": [
      "(36864,)\n",
      "22050\n",
      "[[-702.641     -666.4165    -468.72073   ... -340.2804    -307.1208\n",
      "  -332.38983  ]\n",
      " [   0.          30.873055    68.94654   ...   62.186535    60.39624\n",
      "    57.061287 ]\n",
      " [   0.          18.38902      5.8851614 ...  -57.85765    -85.98534\n",
      "   -85.023636 ]\n",
      " ...\n",
      " [   0.          -1.0251827   -3.438149  ...   -4.854604    -1.8536069\n",
      "    -1.2457173]\n",
      " [   0.          -3.225469   -10.576583  ...  -15.846291   -15.156061\n",
      "   -17.318493 ]\n",
      " [   0.          -3.1624408   -5.6355596 ...   -2.912948    -4.7507157\n",
      "    -6.7356668]]\n",
      "(20, 73)\n"
     ]
    }
   ],
   "source": [
    "sub_dirs = ['1', '2', '3', '4', '5']\n",
    "parent_dir = 'TestData'\n",
    "file_ext=\"aleksandre-pert-1a.wav\" # change to \"*.wav\" to read all voices\n",
    "\n",
    "for num, sub_dir in enumerate(sub_dirs):\n",
    "    for fn in glob.glob(os.path.join(parent_dir, sub_dir, file_ext)):\n",
    "        sound_clip,s = librosa.load(fn)\n",
    "        print(sound_clip.shape)\n",
    "        print(s)\n",
    "        mfcc = librosa.feature.mfcc(y=sound_clip, sr=s)\n",
    "        print(mfcc)\n",
    "        print(mfcc.shape)"
   ]
  },
  {
   "cell_type": "code",
   "execution_count": null,
   "metadata": {},
   "outputs": [],
   "source": []
  }
 ],
 "metadata": {
  "kernelspec": {
   "display_name": "Python 3",
   "language": "python",
   "name": "python3"
  },
  "language_info": {
   "codemirror_mode": {
    "name": "ipython",
    "version": 3
   },
   "file_extension": ".py",
   "mimetype": "text/x-python",
   "name": "python",
   "nbconvert_exporter": "python",
   "pygments_lexer": "ipython3",
   "version": "3.6.9"
  }
 },
 "nbformat": 4,
 "nbformat_minor": 2
}

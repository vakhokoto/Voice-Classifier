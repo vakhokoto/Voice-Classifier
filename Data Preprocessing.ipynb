{
 "cells": [
  {
   "cell_type": "markdown",
   "metadata": {},
   "source": [
    "# Imports and some methods"
   ]
  },
  {
   "cell_type": "code",
   "execution_count": 28,
   "metadata": {},
   "outputs": [],
   "source": [
    "import librosa\n",
    "import librosa.display\n",
    "import glob, os, json\n",
    "import numpy as np\n",
    "from scipy.io import wavfile\n",
    "import string\n",
    "import random, shutil\n",
    "import librosa\n",
    "import librosa.display\n",
    "import pandas as pd\n",
    "import matplotlib.pyplot as plt\n",
    "\n",
    "dataDir = 'Data/'\n",
    "testDir = 'TestData/'\n",
    "subdirs = ['1/', '2/', '3/', '4/', '5/']\n",
    "compressionCoefs = [1.0, 3/4, 7/4, 5/6, 3/2]\n",
    "\n",
    "\n",
    "def randomString(length):\n",
    "    \"\"\"Generate a random string of fixed length \"\"\"\n",
    "    letters = string.ascii_uppercase + string.digits\n",
    "    return ''.join(random.choice(letters) for i in range(length))\n",
    "\n",
    "def normalize_audio(audio):\n",
    "    #audio = audio / np.max(np.abs(audio))\n",
    "    for ind,freq in enumerate(audio):\n",
    "        audio[ind] = freq / np.max(np.abs(freq))\n",
    "    return audio"
   ]
  },
  {
   "cell_type": "markdown",
   "metadata": {},
   "source": [
    "## Noise functions\n",
    "Noise adding functions original got from [Kaggle](https://www.kaggle.com/ejlok1/audio-emotion-part-5-data-augmentation)"
   ]
  },
  {
   "cell_type": "code",
   "execution_count": 29,
   "metadata": {},
   "outputs": [],
   "source": [
    "def noise(data):\n",
    "    \"\"\"\n",
    "    Adding White Noise.\n",
    "    \"\"\"\n",
    "    # you can take any distribution from https://docs.scipy.org/doc/numpy-1.13.0/reference/routines.random.html\n",
    "    noise_amp = 0.05*np.random.uniform()*np.amax(data)   # more noise reduce the value to 0.5\n",
    "    data = data.astype('float64') + noise_amp * np.random.normal(size=data.shape[0])\n",
    "    return data\n",
    "    \n",
    "def shift(data):\n",
    "    \"\"\"\n",
    "    Random Shifting.\n",
    "    \"\"\"\n",
    "    s_range = int(np.random.uniform(low=-5, high = 5)*1000)  #default at 500\n",
    "    return np.roll(data, s_range)\n",
    "    \n",
    "def stretch(data, rate=0.8):\n",
    "    \"\"\"\n",
    "    Streching the Sound. Note that this expands the dataset slightly\n",
    "    \"\"\"\n",
    "    data = librosa.effects.time_stretch(data, rate)\n",
    "    return data\n",
    "    \n",
    "def pitch(data, sample_rate):\n",
    "    \"\"\"\n",
    "    Pitch Tuning.\n",
    "    \"\"\"\n",
    "    bins_per_octave = 12\n",
    "    pitch_pm = 2\n",
    "    pitch_change =  pitch_pm * 2*(np.random.uniform())   \n",
    "    data = librosa.effects.pitch_shift(data.astype('float64'), \n",
    "                                      sample_rate, n_steps=pitch_change, \n",
    "                                      bins_per_octave=bins_per_octave)\n",
    "    return data\n",
    "    \n",
    "def dyn_change(data):\n",
    "    \"\"\"\n",
    "    Random Value Change.\n",
    "    \"\"\"\n",
    "    dyn_change = np.random.uniform(low=-0.5 ,high=7)  # default low = 1.5, high = 3\n",
    "    return (data * dyn_change)\n",
    "    \n",
    "def speedNpitch(data):\n",
    "    \"\"\"\n",
    "    peed and Pitch Tuning.\n",
    "    \"\"\"\n",
    "    # you can change low and high here\n",
    "    length_change = np.random.uniform(low=0.8, high = 1)\n",
    "    speed_fac = 1.2  / length_change # try changing 1.0 to 2.0 ... =D\n",
    "    tmp = np.interp(np.arange(0,len(data),speed_fac),np.arange(0,len(data)),data)\n",
    "    minlen = min(data.shape[0], tmp.shape[0])\n",
    "    data *= 0\n",
    "    data[0:minlen] = tmp[0:minlen]\n",
    "    return data"
   ]
  },
  {
   "cell_type": "markdown",
   "metadata": {},
   "source": [
    "# Data manipulation"
   ]
  },
  {
   "cell_type": "code",
   "execution_count": 30,
   "metadata": {},
   "outputs": [],
   "source": [
    "try:\n",
    "    shutil.rmtree('TestData')\n",
    "except:\n",
    "    pass\n",
    "\n",
    "functionList = [noise, shift, stretch, dyn_change, speedNpitch]\n",
    "\n",
    "for sub in subdirs:\n",
    "    lst = os.listdir(dataDir + sub)\n",
    "    if not os.path.exists(testDir + sub):\n",
    "        os.makedirs(testDir + sub)\n",
    "    \n",
    "    for name in lst:\n",
    "        fs, data = wavfile.read(dataDir + sub + name)\n",
    "        librosaData, sampling_rate = librosa.load(dataDir + sub + name)\n",
    " \n",
    "        # add noise to sound with functions\n",
    "        for func in functionList:\n",
    "            newLibrosaData = func(librosaData)\n",
    "            librosa.output.write_wav(testDir + sub + name.split('.')[0] + \\\n",
    "                                     randomString(20) + '.wav', newLibrosaData, sampling_rate)\n",
    "            \n",
    "        librosaData = pitch(librosaData, sampling_rate)\n",
    "        librosa.output.write_wav(testDir + sub + name.split('.')[0] + \\\n",
    "                                 randomString(20) + '.wav', librosaData, sampling_rate)\n",
    "        \n",
    "        # play with frequency\n",
    "        for coef in compressionCoefs:\n",
    "            wavfile.write(rate= int(fs*coef), filename= testDir \\\n",
    "                          + sub + name.split('.')[0] + randomString(20) + '.wav', data= data) "
   ]
  },
  {
   "cell_type": "code",
   "execution_count": 31,
   "metadata": {},
   "outputs": [],
   "source": [
    "def plot_mfcc(number, N=3):\n",
    "    random.shuffle(samples[number])\n",
    "    print('Displaying mfccs of number ' + str(number))\n",
    "    for mfcc in samples[number][:N]:\n",
    "        plt.figure(figsize=(10, 4))\n",
    "        mfcc = np.asarray(mfcc).T\n",
    "        librosa.display.specshow(mfcc, x_axis='time')\n",
    "        plt.colorbar()\n",
    "        plt.title('MFCC')\n",
    "        plt.tight_layout()\n",
    "    plt.show()"
   ]
  },
  {
   "cell_type": "code",
   "execution_count": 32,
   "metadata": {},
   "outputs": [],
   "source": [
    "sub_dirs = ['1', '2', '3', '4', '5']\n",
    "parent_dir = 'TestData'\n",
    "file_ext=\"*.wav\" # change to \"*.wav\" to read all voices\n",
    "samples = {1:[], 2:[], 3:[], 4:[], 5:[]}\n",
    "n_mfcc = 32\n",
    "\n",
    "for num, sub_dir in enumerate(sub_dirs):\n",
    "    num_dir = int(sub_dir)\n",
    "    for fn in glob.glob(os.path.join(parent_dir, sub_dir, file_ext)):\n",
    "        sound_clip,s = librosa.load(fn)\n",
    "        mfcc = librosa.feature.mfcc(y=sound_clip, sr=s, n_mfcc=n_mfcc)\n",
    "        mfcc = normalize_audio(mfcc.T)\n",
    "        mfcc = mfcc.tolist()\n",
    "        samples[num_dir].append(mfcc)\n",
    "        "
   ]
  },
  {
   "cell_type": "code",
   "execution_count": 33,
   "metadata": {},
   "outputs": [
    {
     "name": "stdout",
     "output_type": "stream",
     "text": [
      "Displaying mfccs of number 5\n"
     ]
    },
    {
     "data": {
      "image/png": "[encoded data removed]",
      "text/plain": [
       "<Figure size 720x288 with 2 Axes>"
      ]
     },
     "metadata": {
      "needs_background": "light"
     },
     "output_type": "display_data"
    },
    {
     "data": {
      "image/png": "[encoded data removed]",
      "text/plain": [
       "<Figure size 720x288 with 2 Axes>"
      ]
     },
     "metadata": {
      "needs_background": "light"
     },
     "output_type": "display_data"
    },
    {
     "data": {
      "image/png": "[encoded data removed]",
      "text/plain": [
       "<Figure size 720x288 with 2 Axes>"
      ]
     },
     "metadata": {
      "needs_background": "light"
     },
     "output_type": "display_data"
    }
   ],
   "source": [
    "plot_mfcc(number=5)"
   ]
  },
  {
   "cell_type": "code",
   "execution_count": 34,
   "metadata": {},
   "outputs": [],
   "source": [
    "data_path = os.path.join('Data', 'mfcc_samples.json')\n",
    "f = open(data_path, \"w\")\n",
    "json.dump(samples, f)\n",
    "f.close()"
   ]
  },
  {
   "cell_type": "code",
   "execution_count": null,
   "metadata": {},
   "outputs": [],
   "source": []
  }
 ],
 "metadata": {
  "kernelspec": {
   "display_name": "Python 3",
   "language": "python",
   "name": "python3"
  },
  "language_info": {
   "codemirror_mode": {
    "name": "ipython",
    "version": 3
   },
   "file_extension": ".py",
   "mimetype": "text/x-python",
   "name": "python",
   "nbconvert_exporter": "python",
   "pygments_lexer": "ipython3",
   "version": "3.6.9"
  }
 },
 "nbformat": 4,
 "nbformat_minor": 2
}

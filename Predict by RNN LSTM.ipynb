{
 "cells": [
  {
   "cell_type": "code",
   "execution_count": 8,
   "metadata": {},
   "outputs": [],
   "source": [
    "import numpy as np\n",
    "import matplotlib.pyplot as plt\n",
    "import os, json, random, glob\n",
    "import librosa\n",
    "from argparse import Namespace\n"
   ]
  },
  {
   "cell_type": "code",
   "execution_count": 9,
   "metadata": {},
   "outputs": [],
   "source": [
    "args = Namespace(\n",
    "    # Data and path information\n",
    "    data_path=\"Data/mfcc_samples.json\",\n",
    "    save_dir=\"Model/\",\n",
    "    # Model hyper parameter\n",
    "    hidden_size = 64,\n",
    "    input_size = 32,\n",
    "    num_classes = 5,\n",
    "    # Training hyper parameter\n",
    "    num_epochs=1000,\n",
    "    learning_rate=0.001,\n",
    "    seed=1337\n",
    ")\n",
    "\n",
    "args.input_size += args.hidden_size\n",
    "\n",
    "np.random.seed(args.seed)\n",
    "random.seed(args.seed)\n"
   ]
  },
  {
   "cell_type": "code",
   "execution_count": 11,
   "metadata": {},
   "outputs": [],
   "source": [
    "def normalize_audio(audio):\n",
    "    #audio = audio / np.max(np.abs(audio))\n",
    "    for ind,freq in enumerate(audio):\n",
    "        audio[ind] = freq / np.max(np.abs(freq))\n",
    "    return audio\n"
   ]
  },
  {
   "cell_type": "code",
   "execution_count": 12,
   "metadata": {},
   "outputs": [],
   "source": [
    "file_name = 'Test_Voices/' # folder dir\n",
    "file_ext = '*.wav'\n",
    "n_mfcc = 32\n",
    "samples = []\n",
    "longest = 0\n",
    "\n",
    "for fn in glob.glob(os.path.join(file_name, file_ext)):\n",
    "    sound_clip,s = librosa.load(fn)\n",
    "    mfcc = librosa.feature.mfcc(y=sound_clip, sr=s, n_mfcc=n_mfcc)\n",
    "    mfcc = normalize_audio(mfcc.T)\n",
    "    name = fn.split(\"/\")[-1].split(\".\")[0]\n",
    "    longest = max(longest, mfcc.shape[0])\n",
    "    samples.append((name, mfcc))\n"
   ]
  },
  {
   "cell_type": "code",
   "execution_count": 27,
   "metadata": {},
   "outputs": [],
   "source": [
    "inFile = open('Model/RNNModel1.json', 'r')\n",
    "weights = json.load(inFile)\n",
    "\n",
    "\n",
    "wf = weights['wf']\n",
    "wi = weights['wi']\n",
    "wc = weights['wc']\n",
    "wo = weights['wo']\n",
    "wy = weights['wy']\n",
    "\n",
    "bf = weights['bf']\n",
    "bi = weights['bi']\n",
    "bc = weights['bc']\n",
    "bo = weights['bo']\n",
    "by = weights['by']"
   ]
  },
  {
   "cell_type": "code",
   "execution_count": 41,
   "metadata": {},
   "outputs": [],
   "source": [
    "def softmax(arr):\n",
    "    c = np.clip(arr, -700, 700) # float64 maximum expotentiable value\n",
    "    e = np.exp(c)\n",
    "    return e / np.sum(e, axis=1, keepdims=True)\n",
    "\n",
    "def sigmoid(arr):\n",
    "    c = np.clip(arr, -700, 700)\n",
    "    return 1 / (1 + np.exp(-c))\n",
    "\n",
    "def tanh(arr):\n",
    "    c = np.clip(arr, -350, 350)\n",
    "    return 2 / (1 + np.exp(-2 * c)) - 1\n",
    "\n",
    "\n",
    "def LSTM_Cell(input_val):\n",
    "    batch_num = input_val.shape[1]\n",
    "    caches = []\n",
    "    states = []\n",
    "    states.append([np.zeros([batch_num, args.hidden_size]), np.zeros([batch_num, args.hidden_size])])\n",
    "    for x in input_val:\n",
    "        c_prev, h_prev = states[-1]\n",
    "        x = np.column_stack([x, h_prev])\n",
    "        \n",
    "        hf = sigmoid(np.matmul(x, wf) + bf)\n",
    "        hi = sigmoid(np.matmul(x, wi) + bi)\n",
    "        ho = sigmoid(np.matmul(x, wo) + bo)\n",
    "        hc = tanh(np.matmul(x, wc) + bc)\n",
    "    \n",
    "        c = hf * c_prev + hi * hc\n",
    "        h = ho * tanh(c)\n",
    "        \n",
    "        states.append([c, h])\n",
    "        caches.append([x, hf, hi, ho, hc])\n",
    "        \n",
    "    return caches, states\n"
   ]
  },
  {
   "cell_type": "code",
   "execution_count": 42,
   "metadata": {},
   "outputs": [],
   "source": [
    "outputs = []\n",
    "for name, mfcc in samples:\n",
    "    X = np.expand_dims(mfcc, axis=0)\n",
    "    Xt = np.transpose(X, [1, 0, 2])\n",
    "\n",
    "    caches, states = LSTM_Cell(Xt)\n",
    "    c, h = states[-1]\n",
    "\n",
    "    out = np.dot(h, wy) + by\n",
    "    pred = softmax(out)\n",
    "    predicted = np.argmax(pred,axis=1)\n",
    "    \n",
    "    outputs.append((name, pred))\n"
   ]
  },
  {
   "cell_type": "code",
   "execution_count": 48,
   "metadata": {},
   "outputs": [
    {
     "name": "stdout",
     "output_type": "stream",
     "text": [
      "Accuracy on test - 70.53571428571429%\n"
     ]
    }
   ],
   "source": [
    "f = open('predictions.txt', 'w')\n",
    "correct, total = 0, 0\n",
    "for name, out in outputs:\n",
    "    out = out[0]\n",
    "    label = 0\n",
    "    total += 1\n",
    "    if '1' in name:\n",
    "        label = 0\n",
    "    elif '2' in name:\n",
    "        label = 1\n",
    "    elif '3' in name:\n",
    "        label = 2\n",
    "    elif '4' in name:\n",
    "        label = 3\n",
    "    else:\n",
    "        label = 4\n",
    "    correct += (1 if label == np.argmax(np.array(out)) else 0)\n",
    "    out = [str(round(num, 4)) for num in out]\n",
    "    text = name + ' - ' + out[0] + ', ' + out[1] + ', ' + out[2] + ', ' + out[3] + ', ' + out[4] + '\\n'\n",
    "    f.write(text)\n",
    "    \n",
    "print('Accuracy on test - {}%'.format(correct / total * 100))\n",
    "f.close()"
   ]
  },
  {
   "cell_type": "code",
   "execution_count": null,
   "metadata": {},
   "outputs": [],
   "source": []
  }
 ],
 "metadata": {
  "kernelspec": {
   "display_name": "Python 3",
   "language": "python",
   "name": "python3"
  },
  "language_info": {
   "codemirror_mode": {
    "name": "ipython",
    "version": 3
   },
   "file_extension": ".py",
   "mimetype": "text/x-python",
   "name": "python",
   "nbconvert_exporter": "python",
   "pygments_lexer": "ipython3",
   "version": "3.6.6"
  }
 },
 "nbformat": 4,
 "nbformat_minor": 2
}

{
 "cells": [
  {
   "cell_type": "code",
   "execution_count": 121,
   "metadata": {},
   "outputs": [],
   "source": [
    "import librosa\n",
    "import librosa.display\n",
    "import glob\n",
    "import torch\n",
    "import torch.nn as nn\n",
    "import os, json, random\n",
    "import numpy as np\n"
   ]
  },
  {
   "cell_type": "code",
   "execution_count": 122,
   "metadata": {},
   "outputs": [],
   "source": [
    "def normalize_audio(audio):\n",
    "    #audio = audio / np.max(np.abs(audio))\n",
    "    for ind,freq in enumerate(audio):\n",
    "        audio[ind] = freq / np.max(np.abs(freq))\n",
    "    return audio\n"
   ]
  },
  {
   "cell_type": "code",
   "execution_count": 123,
   "metadata": {},
   "outputs": [],
   "source": [
    "file_name = 'Test_Voices/' # folder dir\n",
    "file_ext = '*.wav'\n",
    "n_mfcc = 32\n",
    "samples = []\n",
    "longest = 0\n",
    "\n",
    "for fn in glob.glob(os.path.join(file_name, file_ext)):\n",
    "    sound_clip,s = librosa.load(fn)\n",
    "    mfcc = librosa.feature.mfcc(y=sound_clip, sr=s, n_mfcc=n_mfcc)\n",
    "    mfcc = normalize_audio(mfcc.T)\n",
    "    name = fn.split(\"/\")[-1].split(\".\")[0]\n",
    "    longest = max(longest, mfcc.shape[0])\n",
    "    samples.append((name, mfcc))\n"
   ]
  },
  {
   "cell_type": "code",
   "execution_count": 124,
   "metadata": {},
   "outputs": [],
   "source": [
    "names, sizes, mfccs = [], [], []\n",
    "\n",
    "for name, mfcc in samples:\n",
    "    names.append(name)\n",
    "    sizes.append(mfcc.shape[0])\n",
    "    to_pad = np.zeros((longest-mfcc.shape[0], n_mfcc))\n",
    "    mfccs.append(np.vstack((mfcc, to_pad)))"
   ]
  },
  {
   "cell_type": "code",
   "execution_count": 125,
   "metadata": {},
   "outputs": [],
   "source": [
    "sizes = torch.tensor(sizes)\n",
    "tensor = torch.tensor([mfcc for mfcc in mfccs])"
   ]
  },
  {
   "cell_type": "code",
   "execution_count": 126,
   "metadata": {},
   "outputs": [],
   "source": [
    "def gather_columns(y_out, x_lengths):\n",
    "    \"\"\"\n",
    "    Gets a vector, that's at the position indicated \n",
    "    by the corresponding value in x_lengths, from each batch datapoint in y_out.\n",
    "    \"\"\"\n",
    "    x_lengths = x_lengths.long().detach().cpu().numpy() - 1\n",
    "    out = []\n",
    "    for batch_index, column_index in enumerate(x_lengths):\n",
    "        out.append(y_out[batch_index, column_index])\n",
    "\n",
    "    return torch.stack(out)\n",
    "\n",
    "\n",
    "class RNN(nn.Module):\n",
    "    def __init__(self, input_size, num_classes, hidden_size, dropout_rate=0.1, batch_first=True):\n",
    "        super(RNN, self).__init__()\n",
    "        \n",
    "        self.rnn = nn.GRU(input_size=input_size, hidden_size=hidden_size, batch_first=batch_first)\n",
    "        self.linear1 = nn.Linear(in_features=hidden_size, out_features=32)\n",
    "        self.linear2 = nn.Linear(in_features=32, out_features=num_classes)\n",
    "        self.softmax = nn.Softmax(dim=1)\n",
    "        self.dropout = nn.Dropout(p=dropout_rate)\n",
    "        self.relu = nn.ReLU()\n",
    "        \n",
    "    def forward(self, x_in, x_lengths=None, apply_softmax=False):\n",
    "        out, _ = self.rnn(x_in)\n",
    "        \n",
    "        if x_lengths is not None:\n",
    "            output = gather_columns(out, x_lengths)\n",
    "        else:\n",
    "            output = out[:, -1, :]\n",
    "            \n",
    "        output = self.linear1(output)\n",
    "        output = self.dropout(output)\n",
    "        output = self.relu(output)\n",
    "        output = self.linear2(output)\n",
    "        if apply_softmax:\n",
    "            output = self.softmax(output)\n",
    "        return output\n",
    "\n",
    "    "
   ]
  },
  {
   "cell_type": "code",
   "execution_count": 127,
   "metadata": {},
   "outputs": [
    {
     "data": {
      "text/plain": [
       "<All keys matched successfully>"
      ]
     },
     "execution_count": 127,
     "metadata": {},
     "output_type": "execute_result"
    }
   ],
   "source": [
    "model = RNN(input_size = n_mfcc, num_classes = 5, hidden_size = 64)\n",
    "checkpoint = torch.load('Model/model1.pth')\n",
    "model.load_state_dict(checkpoint)"
   ]
  },
  {
   "cell_type": "code",
   "execution_count": 128,
   "metadata": {},
   "outputs": [],
   "source": [
    "model.eval()\n",
    "output = model(x_in = tensor.float(), x_lengths = sizes, apply_softmax=True)\n",
    "output = output.tolist()"
   ]
  },
  {
   "cell_type": "code",
   "execution_count": 129,
   "metadata": {},
   "outputs": [],
   "source": [
    "for ind, out in enumerate(output):\n",
    "    output[ind] = [round(num, 4) for num in out]"
   ]
  },
  {
   "cell_type": "code",
   "execution_count": 130,
   "metadata": {},
   "outputs": [
    {
     "name": "stdout",
     "output_type": "stream",
     "text": [
      "Accuracy on test - 88.39285714285714%\n"
     ]
    }
   ],
   "source": [
    "f = open('predictions.txt', 'w')\n",
    "correct, total = 0, 0\n",
    "for name, out in zip(names, output):\n",
    "    out = [str(num) for num in out]\n",
    "    label = 0\n",
    "    total += 1\n",
    "    if '1' in name:\n",
    "        label = 0\n",
    "    elif '2' in name:\n",
    "        label = 1\n",
    "    elif '3' in name:\n",
    "        label = 2\n",
    "    elif '4' in name:\n",
    "        label = 3\n",
    "    else:\n",
    "        label = 4\n",
    "    correct += (1 if label == np.argmax(np.array(out)) else 0)\n",
    "    text = name + ' - ' + out[0] + ', ' + out[1] + ', ' + out[2] + ', ' + out[3] + ', ' + out[4] + '\\n'\n",
    "    f.write(text)\n",
    "    \n",
    "print('Accuracy on test - {}%'.format(correct / total * 100))\n",
    "f.close()"
   ]
  },
  {
   "cell_type": "code",
   "execution_count": null,
   "metadata": {},
   "outputs": [],
   "source": []
  }
 ],
 "metadata": {
  "kernelspec": {
   "display_name": "Python 3",
   "language": "python",
   "name": "python3"
  },
  "language_info": {
   "codemirror_mode": {
    "name": "ipython",
    "version": 3
   },
   "file_extension": ".py",
   "mimetype": "text/x-python",
   "name": "python",
   "nbconvert_exporter": "python",
   "pygments_lexer": "ipython3",
   "version": "3.6.9"
  }
 },
 "nbformat": 4,
 "nbformat_minor": 2
}
